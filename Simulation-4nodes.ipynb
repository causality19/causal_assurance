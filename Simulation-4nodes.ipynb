{
 "cells": [
  {
   "cell_type": "code",
   "execution_count": 12,
   "metadata": {},
   "outputs": [
    {
     "data": {
      "text/html": [
       "<style>.container { width:100% !important; }</style>"
      ],
      "text/plain": [
       "<IPython.core.display.HTML object>"
      ]
     },
     "metadata": {},
     "output_type": "display_data"
    },
    {
     "name": "stdout",
     "output_type": "stream",
     "text": [
      "[[512, 256], [512, 256], [512, 256], [512, 256], [512, 256], [512, 256], [512, 256], [512, 256], [512, 256], [512, 256], [512, 256], [512, 256], [512, 256], [512, 256], [512, 256], [512, 256], [512, 256], [512, 256], [512, 256], [512, 256], [512, 256], [512, 256], [512, 256], [512, 256], [512, 256], [512, 256], [512, 256], [512, 256], [512, 256], [512, 256], [512, 256], [512, 256], [512, 256], [512, 256], [512, 256], [512, 256], [512, 256], [512, 256], [512, 256], [512, 256], [512, 256], [512, 256], [512, 256], [512, 256], [512, 256], [512, 256], [512, 256], [512, 256], [512, 256], [512, 256], [512, 256], [512, 256], [512, 256], [512, 256], [512, 256], [512, 256], [512, 256], [512, 256], [512, 256], [512, 256], [512, 256], [512, 256], [512, 256], [512, 256], [512, 256], [512, 256], [512, 256], [512, 256], [512, 256], [512, 256], [512, 256], [512, 256], [512, 256], [512, 256], [512, 256], [512, 256], [512, 256], [512, 256], [512, 256], [512, 256], [512, 256], [512, 256], [512, 256], [512, 256], [512, 256], [512, 256], [512, 256], [512, 256], [512, 256], [512, 256], [512, 256], [512, 256], [512, 256], [512, 256], [512, 256], [512, 256], [512, 256], [512, 256], [512, 256], [512, 256]] ['temp/4sim0', 'temp/4sim1', 'temp/4sim2', 'temp/4sim3', 'temp/4sim4', 'temp/4sim5', 'temp/4sim6', 'temp/4sim7', 'temp/4sim8', 'temp/4sim9', 'temp/4sim10', 'temp/4sim11', 'temp/4sim12', 'temp/4sim13', 'temp/4sim14', 'temp/4sim15', 'temp/4sim16', 'temp/4sim17', 'temp/4sim18', 'temp/4sim19', 'temp/4sim20', 'temp/4sim21', 'temp/4sim22', 'temp/4sim23', 'temp/4sim24', 'temp/4sim25', 'temp/4sim26', 'temp/4sim27', 'temp/4sim28', 'temp/4sim29', 'temp/4sim30', 'temp/4sim31', 'temp/4sim32', 'temp/4sim33', 'temp/4sim34', 'temp/4sim35', 'temp/4sim36', 'temp/4sim37', 'temp/4sim38', 'temp/4sim39', 'temp/4sim40', 'temp/4sim41', 'temp/4sim42', 'temp/4sim43', 'temp/4sim44', 'temp/4sim45', 'temp/4sim46', 'temp/4sim47', 'temp/4sim48', 'temp/4sim49', 'temp/4sim50', 'temp/4sim51', 'temp/4sim52', 'temp/4sim53', 'temp/4sim54', 'temp/4sim55', 'temp/4sim56', 'temp/4sim57', 'temp/4sim58', 'temp/4sim59', 'temp/4sim60', 'temp/4sim61', 'temp/4sim62', 'temp/4sim63', 'temp/4sim64', 'temp/4sim65', 'temp/4sim66', 'temp/4sim67', 'temp/4sim68', 'temp/4sim69', 'temp/4sim70', 'temp/4sim71', 'temp/4sim72', 'temp/4sim73', 'temp/4sim74', 'temp/4sim75', 'temp/4sim76', 'temp/4sim77', 'temp/4sim78', 'temp/4sim79', 'temp/4sim80', 'temp/4sim81', 'temp/4sim82', 'temp/4sim83', 'temp/4sim84', 'temp/4sim85', 'temp/4sim86', 'temp/4sim87', 'temp/4sim88', 'temp/4sim89', 'temp/4sim90', 'temp/4sim91', 'temp/4sim92', 'temp/4sim93', 'temp/4sim94', 'temp/4sim95', 'temp/4sim96', 'temp/4sim97', 'temp/4sim98', 'temp/4sim99']\n"
     ]
    }
   ],
   "source": [
    "import configparser\n",
    "import random\n",
    "import numpy as np\n",
    "import tensorflow as tf\n",
    "from sklearn.metrics import roc_auc_score, average_precision_score\n",
    "from keras.models import load_model\n",
    "from keras.callbacks import LearningRateScheduler, ModelCheckpoint, Callback\n",
    "from keras.applications.inception_resnet_v2 import InceptionResNetV2\n",
    "from keras.models import load_model, Model\n",
    "from keras.layers import Conv2D, MaxPooling2D, GlobalAveragePooling2D, BatchNormalization, \\\n",
    "                        Input, Dense, GlobalAveragePooling2D, Dropout\n",
    "from keras import backend as K\n",
    "from keras.preprocessing.image import ImageDataGenerator\n",
    "from keras import optimizers\n",
    "from keras.utils import to_categorical\n",
    "from collections import Counter\n",
    "import keras.optimizers\n",
    "from keras.callbacks import Callback\n",
    "from keras.callbacks import EarlyStopping\n",
    "from keras.utils import plot_model\n",
    "import glob, os\n",
    "import tensorflow as tf\n",
    "import pandas as pd\n",
    "from random import shuffle\n",
    "import numpy as np\n",
    "import pandas as pd\n",
    "import matplotlib.pyplot as plt\n",
    "import sys\n",
    "from sklearn.metrics import roc_auc_score, average_precision_score, mean_absolute_error, mean_squared_error, accuracy_score\n",
    "from sklearn.model_selection import StratifiedKFold\n",
    "from sklearn.linear_model import LogisticRegression, Perceptron\n",
    "from sklearn.neighbors import KNeighborsClassifier\n",
    "from sklearn.tree import DecisionTreeClassifier\n",
    "from sklearn.svm import LinearSVC\n",
    "from sklearn.naive_bayes import GaussianNB, BernoulliNB\n",
    "from sklearn.discriminant_analysis import LinearDiscriminantAnalysis\n",
    "from sklearn.ensemble import RandomForestClassifier, ExtraTreesClassifier, AdaBoostClassifier, BaggingClassifier, GradientBoostingClassifier\n",
    "from sklearn.neural_network import MLPClassifier\n",
    "import pandas as pd\n",
    "from pycausal import search as s\n",
    "from pycausal.pycausal import pycausal as pc\n",
    "from collections import defaultdict\n",
    "from numpy.polynomial.polynomial import polyfit  \n",
    "from scipy.stats import pearsonr\n",
    "from pylab import text\n",
    "from pycausal import prior as p\n",
    "import itertools\n",
    "\n",
    "# select your GPU Here\n",
    "os.environ[\"CUDA_VISIBLE_DEVICES\"]=\"0\" #Comment this line out if you want all GPUS (2 hehe)\n",
    "\n",
    "# python full-display web browser\n",
    "from IPython.core.display import display, HTML\n",
    "display(HTML(\"<style>.container { width:100% !important; }</style>\"))\n",
    "\n",
    "\n",
    "def get_model(dense, dropouts, inputs):\n",
    "    # dense is an ordered list of the number of dense neurons like [1024, 2048, 1024]\n",
    "    # dropouts is an ordered list of the dropout masks like [0.2, 0.3, 0.4]\n",
    "    inputs = keras.Input(shape = (inputs,))\n",
    "    x = keras.layers.Dense(dense[0], activation = 'relu')(inputs)\n",
    "    x = keras.layers.Dropout(dropouts[0])(x, training=False)\n",
    "    for den, drop in zip(dense[1:], dropouts[1:]):\n",
    "        x = keras.layers.Dense(den, activation = 'relu')(x)\n",
    "        x = keras.layers.Dropout(drop)(x, training=False)\n",
    "    outputs = keras.layers.Dense(1, activation = 'linear')(x)\n",
    "    model = keras.Model(inputs, outputs)\n",
    "    return model\n",
    "\n",
    "\n",
    "\n",
    "def get_bic(df, prior, penalty = 2):\n",
    "\n",
    "    tetrad.run(algoId = 'fges', dfs = df,  scoreId = 'sem-bic', dataType = 'continuous',\n",
    "               structurePrior = 1.0, samplePrior = 1, maxDegree = -1, maxPathLength = -1, priorKnowledge = prior,\n",
    "               completeRuleSetUsed = False, faithfulnessAssumed = True, verbose = True, penalty = 200\n",
    "              )\n",
    "\n",
    "    \n",
    "    BIC = tetrad.getTetradGraph().getAllAttributes().toString()\n",
    "    BIC = float(BIC.split('=')[-1].split('}')[0])\n",
    "    return BIC #/ len(df)\n",
    "\n",
    "def normalize(a):\n",
    "    return (a - np.min(a)) / (np.max(a) - np.min(a))\n",
    "def make_categorical(df, complete_df, categoricals):   \n",
    "    retval = None\n",
    "    for key in df.columns:\n",
    "        if retval is not None:\n",
    "            if key in categoricals:\n",
    "                retval = np.concatenate((retval, to_categorical(df[key], len(complete_df[key].unique()))), axis = 1)\n",
    "            else:\n",
    "                retval = np.concatenate((retval, df[key].values[...,np.newaxis]), axis = 1)\n",
    "        else:\n",
    "            if key in categoricals:\n",
    "                retval = to_categorical(df[key], len(complete_df[key].unique()))\n",
    "            else:\n",
    "                retval = df[key]\n",
    "    return retval\n",
    "num_models = 100\n",
    "pc = pc()\n",
    "pc.start_vm(java_max_heap_size = '21000M')\n",
    "tetrad = s.tetradrunner()\n",
    "\n",
    "models = []\n",
    "model_names = []\n",
    "\n",
    "\n",
    "\n",
    "randomize = False\n",
    "if randomize:\n",
    "    layers = [256, 512, 1024, 2048, 4096]\n",
    "    for i in range(num_models):\n",
    "        network = []\n",
    "        for j in range(3):\n",
    "            network.append(layers[random.randint(0,len(layers) -1)])\n",
    "        models.append(network)\n",
    "        model_names.append('temp/4sim' + str(i))\n",
    "    print(models, model_names)    \n",
    "else:\n",
    "    model_layers = [512, 256]\n",
    "    for i in range(num_models):\n",
    "        models.append(model_layers)\n",
    "        model_names.append('temp/4sim' + str(i))\n",
    "\n",
    "print(models, model_names)"
   ]
  },
  {
   "cell_type": "code",
   "execution_count": 2,
   "metadata": {},
   "outputs": [],
   "source": [
    "import pydot\n",
    "from IPython.display import SVG\n",
    "\n",
    "def examine_graph_continuous(df, prior = None):\n",
    "    tetrad.run(algoId = 'fges', dfs = df,  scoreId = 'sem-bic', dataType = 'continuous',\n",
    "               structurePrior = 1.0, samplePrior = 1, maxDegree = -1, maxPathLength = -1, priorKnowledge = prior,\n",
    "               completeRuleSetUsed = False, faithfulnessAssumed = True, verbose = True,\n",
    "               )\n",
    "    return tetrad.getTetradGraph()\n",
    "\n",
    "def gen_data(list_vertex = [], list_edges = [], mean = 0, var = 1, SIZE = 20000, perturb = []):\n",
    "    g = []\n",
    "    for v in list_vertex:\n",
    "        if v in perturb:\n",
    "            g.append(np.random.normal(mean,var,SIZE))\n",
    "            print(\"perturbing \", v, \"with meanm var = \", mean, var)\n",
    "        else:\n",
    "            g.append(np.random.normal(0,1,SIZE))\n",
    "        \n",
    "    for edge in list_edges:\n",
    "        g[edge[1]] += g[edge[0]]\n",
    "    g = np.swapaxes(g,0,1)\n",
    "    return pd.DataFrame(g, columns = list(map(str, list_vertex)))\n",
    "\n",
    "import networkx as nx\n",
    "\n",
    "def random_dag(nodes, edges):\n",
    "    \"\"\"Generate a random Directed Acyclic Graph (DAG) with a given number of nodes and edges.\"\"\"\n",
    "    G = nx.DiGraph()\n",
    "    for i in range(nodes):\n",
    "        G.add_node(i)\n",
    "    while edges > 0:\n",
    "        a = random.randint(0,nodes-1)\n",
    "        b=a\n",
    "        while b==a:\n",
    "            b = random.randint(0,nodes-1)\n",
    "        G.add_edge(a,b)\n",
    "        if nx.is_directed_acyclic_graph(G):\n",
    "            edges -= 1\n",
    "        else:\n",
    "            # we closed a loop!\n",
    "            G.remove_edge(a,b)\n",
    "    return G\n",
    "\n",
    "\n"
   ]
  },
  {
   "cell_type": "code",
   "execution_count": 3,
   "metadata": {},
   "outputs": [],
   "source": [
    "\n",
    "bestMSE = []\n",
    "bestBIC = []\n",
    "bestCOMBO = []\n",
    "bestWRONG = []\n",
    "bestPOSSIBLE= []\n",
    "worstMSE = []\n",
    "worstBIC = []\n",
    "worstCOMBO = []\n",
    "worstWRONG = []\n",
    "worstPOSSIBLE= []\n",
    "\n",
    "qbestMSE = []\n",
    "qbestBIC = []\n",
    "qbestCOMBO = []\n",
    "qbestWRONG = []\n",
    "qbestPOSSIBLE= []\n",
    "qworstMSE = []\n",
    "qworstBIC = []\n",
    "qworstCOMBO = []\n",
    "qworstWRONG = []\n",
    "qworstPOSSIBLE= []\n",
    "\n",
    "\n",
    "sbestMSE = []\n",
    "sbestBIC = []\n",
    "sbestCOMBO = []\n",
    "sbestWRONG = []\n",
    "sbestPOSSIBLE= []\n",
    "sworstMSE = []\n",
    "sworstBIC = []\n",
    "sworstCOMBO = []\n",
    "sworstWRONG = []\n",
    "sworstPOSSIBLE= []\n",
    "\n",
    "sqbestMSE = []\n",
    "sqbestBIC = []\n",
    "sqbestCOMBO = []\n",
    "sqbestWRONG = []\n",
    "sqbestPOSSIBLE= []\n",
    "sqworstMSE = []\n",
    "sqworstBIC = []\n",
    "sqworstCOMBO = []\n",
    "sqworstWRONG = []\n",
    "sqworstPOSSIBLE= []\n",
    "\n",
    "averageDegree = []\n",
    "targetDegree = []\n",
    "target_inD = []\n",
    "target_outD = []\n",
    "descendants = []\n",
    "graphDiff = []"
   ]
  },
  {
   "cell_type": "code",
   "execution_count": 9,
   "metadata": {
    "scrolled": true
   },
   "outputs": [
    {
     "name": "stdout",
     "output_type": "stream",
     "text": [
      "A =  {('0', '1'), ('1', '2'), ('0', '2'), ('3', '2')}\n",
      "B =  {('0', '1'), ('1', '2'), ('0', '2'), ('3', '2')}\n",
      "perturbing  3 with meanm var =  0.6320938030065639 1.501032455378327\n",
      "perturbing  3 with meanm var =  0.019995451128740946 1.0956447500655944\n",
      "Inputs =  ['0', '1', '3']\n",
      "Target =  ['2']\n",
      "0\n",
      "10\n",
      "20\n",
      "30\n",
      "40\n",
      "50\n",
      "[1.0203816918373951, 1.0185146804696568, 1.0190181143587456, 1.0231449837458237, 1.0242940211837734, 1.0155132269182396, 1.017681508033927, 1.0270543437755053, 1.0195882980524147, 1.0168039085078902, 1.01814416434786, 1.0165716502672415, 1.0154951459497286, 1.0223580527348262, 1.017007669890504, 1.017214624724534, 1.0182860832038498, 1.0194991221528498, 1.0172598465902358, 1.0176147003184153, 1.0208805434976, 1.0202225035796213, 1.019067598475972, 1.0199911347602975, 1.0222498473874675, 1.0176164307203894, 1.0183456824338604, 1.016340014324558, 1.018366657495275, 1.017967104640453, 1.0197941400291815, 1.022225049362342, 1.0168338723961583, 1.0181542538962216, 1.0210541034417109, 1.0169759224935682, 1.0197352530008628, 1.0210673125204413, 1.0200729799821233, 1.0194537913583468, 1.016567970239709, 1.0200803783767216, 1.0243726677587697, 1.0218252912259698, 1.0216931302878023, 1.022835048667708, 1.0229136468509166, 1.0211467680884927, 1.022635382778728, 1.0226640918222067, 1.023444615519017, 1.0176473272884914, 1.0193472400206232, 1.0157070845801706, 1.016938274129865, 1.0190603276787458, 1.0209715394493875, 1.0212807531334378, 1.017442306353948, 1.0197851248992362]\n",
      "Factors =  1.0 0.25\n",
      "MSE =  0.7703029132638413\n",
      "BIC =  1.5083224954590118\n",
      "COMB =  0.940618369895447\n",
      "WRONG =  0.7703029132638413\n",
      "Best possible =  0.2265392423085131\n",
      "MSE =  3.8044622653067934\n",
      "BIC =  3.1911216082586145\n",
      "COMB =  3.7401738784956393\n",
      "WRONG =  3.8985268246978833\n",
      "Best possible =  4.246106489976081\n",
      "MSE =  1.7762172522651614\n",
      "BIC =  2.949691031929805\n",
      "COMB =  2.5574722347527903\n",
      "WRONG =  2.0538059551417303\n",
      "Best possible =  1.156603761161559\n",
      "MSE =  6.897392797231936\n",
      "BIC =  6.46379078143376\n",
      "COMB =  7.278485972254786\n",
      "WRONG =  7.303289330842132\n",
      "Best possible =  8.232724086054459\n",
      "[1.0203816918373951, 1.0185146804696568, 1.0190181143587456, 1.0231449837458237, 1.0242940211837734, 1.0155132269182396, 1.017681508033927, 1.0270543437755053, 1.0195882980524147, 1.0168039085078902, 1.01814416434786, 1.0165716502672415, 1.0154951459497286, 1.0223580527348262, 1.017007669890504, 1.017214624724534, 1.0182860832038498, 1.0194991221528498, 1.0172598465902358, 1.0176147003184153, 1.0208805434976, 1.0202225035796213, 1.019067598475972, 1.0199911347602975, 1.0222498473874675, 1.0176164307203894, 1.0183456824338604, 1.016340014324558, 1.018366657495275, 1.017967104640453, 1.0197941400291815, 1.022225049362342, 1.0168338723961583, 1.0181542538962216, 1.0210541034417109, 1.0169759224935682, 1.0197352530008628, 1.0210673125204413, 1.0200729799821233, 1.0194537913583468, 1.016567970239709, 1.0200803783767216, 1.0243726677587697, 1.0218252912259698, 1.0216931302878023, 1.022835048667708, 1.0229136468509166, 1.0211467680884927, 1.022635382778728, 1.0226640918222067, 1.023444615519017, 1.0176473272884914, 1.0193472400206232, 1.0157070845801706, 1.016938274129865, 1.0190603276787458, 1.0209715394493875, 1.0212807531334378, 1.017442306353948, 1.0197851248992362]\n",
      "MSE =  1.5004875395519295\n",
      "BIC =  2.461746362291829\n",
      "COMB =  1.8903445424996645\n",
      "WRONG =  1.5004875395519295\n",
      "Best possible =  0.36462884304312043\n",
      "MSE =  3.2370022848006315\n",
      "BIC =  2.181408482855974\n",
      "COMB =  3.0359636579798748\n",
      "WRONG =  2.909951313811636\n",
      "Best possible =  3.7687778369263576\n",
      "MSE =  3.240302848725243\n",
      "BIC =  5.491948552126037\n",
      "COMB =  4.5312827791296995\n",
      "WRONG =  3.733078739347447\n",
      "Best possible =  1.8839043429903446\n",
      "MSE =  6.67865513388886\n",
      "BIC =  4.512355509288307\n",
      "COMB =  5.713787366101613\n",
      "WRONG =  6.581163064789924\n",
      "Best possible =  7.768018046417519\n",
      "Times =  0\n",
      "[2, 2, 3, 1, 3, 1, 2, 2, 3] [2.5, 2.5, 3.0, 1.5, 3.0, 1.5, 2.0, 2.0, 2.0]\n",
      "A =  {('0', '1'), ('2', '1'), ('3', '1'), ('3', '2')}\n",
      "B =  {('0', '1'), ('2', '1'), ('3', '2')}\n",
      "A =  {('3', '0'), ('1', '0'), ('2', '0'), ('2', '3'), ('3', '1')}\n",
      "B =  {('3', '1'), ('2', '3'), ('1', '0'), ('2', '0')}\n",
      "A =  {('0', '3'), ('0', '1'), ('3', '2'), ('1', '2'), ('3', '1')}\n",
      "B =  {('0', '3'), ('0', '1'), ('3', '2'), ('1', '2'), ('3', '1')}\n",
      "perturbing  3 with meanm var =  0.7985788203520258 1.264209318763468\n",
      "perturbing  3 with meanm var =  0.012723498419080992 1.0370201299705404\n",
      "Inputs =  ['0', '1', '3']\n",
      "Target =  ['2']\n",
      "0\n",
      "10\n",
      "20\n",
      "30\n",
      "40\n",
      "50\n",
      "[1.0795234765916908, 1.0804658050778913, 1.0822322469085108, 1.0810944980764283, 1.0786010397477022, 1.0804561724093806, 1.080567403005816, 1.0809090171411828, 1.081746768857236, 1.0785036455706782, 1.0817776247871598, 1.0815125612754688, 1.0816571996394393, 1.0795806865239979, 1.0819625407209579, 1.0824097312192584, 1.0804138903561744, 1.0805651189434835, 1.080697722923059, 1.0804685493499433, 1.080662945213993, 1.0810206978080255, 1.0784906011794555, 1.0802418318303724, 1.0819007620875847, 1.081240440264307, 1.0796697391222079, 1.0807406255728713, 1.0807424482588806, 1.0780307585113873, 1.081832941467952, 1.0827944309077426, 1.08033819637074, 1.0798938701684315, 1.0786944584505058, 1.080249425261778, 1.0789529244453924, 1.0803683750461892, 1.0808760509482567, 1.0823400087148394, 1.0797146451229604, 1.080318177246078, 1.0778588895654146, 1.0830265712271963, 1.0793344352741587, 1.0790644560739338, 1.079777786425167, 1.0831508279573618, 1.0791565061353463, 1.0811845404763263, 1.0812928365658834, 1.0782804612403434, 1.079964895452555, 1.0853852050687656, 1.083563917522024, 1.081429435315432, 1.0829682107811907, 1.079435399807504, 1.0821582788574093, 1.080572516758789]\n",
      "Factors =  1.0 1.0\n",
      "MSE =  1.9973244665740884\n",
      "BIC =  2.5021059221478383\n",
      "COMB =  1.5665808870432039\n",
      "WRONG =  1.4328942776134928\n",
      "Best possible =  0.42353030689509363\n",
      "MSE =  4.943260394539025\n",
      "BIC =  3.2186009574907612\n",
      "COMB =  4.361741919053176\n",
      "WRONG =  4.3446818811293015\n",
      "Best possible =  5.3177265370549485\n",
      "MSE =  4.432302742630327\n",
      "BIC =  6.8244574524601465\n",
      "COMB =  4.339412953136984\n",
      "WRONG =  5.059241626577652\n",
      "Best possible =  2.0404436591073947\n",
      "MSE =  9.394380292017594\n",
      "BIC =  6.732898748530758\n",
      "COMB =  8.305047711367276\n",
      "WRONG =  8.390690696170047\n",
      "Best possible =  10.9368469445598\n",
      "[1.0795234765916908, 1.0804658050778913, 1.0822322469085108, 1.0810944980764283, 1.0786010397477022, 1.0804561724093806, 1.080567403005816, 1.0809090171411828, 1.081746768857236, 1.0785036455706782, 1.0817776247871598, 1.0815125612754688, 1.0816571996394393, 1.0795806865239979, 1.0819625407209579, 1.0824097312192584, 1.0804138903561744, 1.0805651189434835, 1.080697722923059, 1.0804685493499433, 1.080662945213993, 1.0810206978080255, 1.0784906011794555, 1.0802418318303724, 1.0819007620875847, 1.081240440264307, 1.0796697391222079, 1.0807406255728713, 1.0807424482588806, 1.0780307585113873, 1.081832941467952, 1.0827944309077426, 1.08033819637074, 1.0798938701684315, 1.0786944584505058, 1.080249425261778, 1.0789529244453924, 1.0803683750461892, 1.0808760509482567, 1.0823400087148394, 1.0797146451229604, 1.080318177246078, 1.0778588895654146, 1.0830265712271963, 1.0793344352741587, 1.0790644560739338, 1.079777786425167, 1.0831508279573618, 1.0791565061353463, 1.0811845404763263, 1.0812928365658834, 1.0782804612403434, 1.079964895452555, 1.0853852050687656, 1.083563917522024, 1.081429435315432, 1.0829682107811907, 1.079435399807504, 1.0821582788574093, 1.080572516758789]\n",
      "MSE =  1.6195166404654473\n",
      "BIC =  2.7481034735428906\n",
      "COMB =  1.4838020300160264\n",
      "WRONG =  1.3025398335610505\n",
      "Best possible =  0.573294067371116\n",
      "MSE =  3.1775345483905086\n",
      "BIC =  3.1922743790769976\n",
      "COMB =  3.562034377248586\n",
      "WRONG =  3.5089196109292784\n",
      "Best possible =  4.289836801505141\n",
      "MSE =  4.120456234765944\n",
      "BIC =  4.964131104238396\n",
      "COMB =  4.432490289182313\n",
      "WRONG =  3.596648498092823\n",
      "Best possible =  2.603300007014333\n",
      "MSE =  7.466694577193152\n",
      "BIC =  6.9800102343066115\n",
      "COMB =  7.1195446793774035\n",
      "WRONG =  6.8367536918306655\n",
      "Best possible =  8.706802801389598\n",
      "Times =  1\n",
      "[2, 2, 3, 1, 3, 1, 2, 2, 3, 2] [2.5, 2.5, 3.0, 1.5, 3.0, 1.5, 2.0, 2.0, 2.0, 2.5]\n",
      "A =  {('1', '3'), ('3', '0'), ('3', '2'), ('1', '2'), ('0', '2'), ('1', '0')}\n",
      "B =  {('1', '3'), ('3', '0'), ('3', '2'), ('1', '2'), ('0', '2'), ('1', '0')}\n",
      "perturbing  3 with meanm var =  0.8626636630629989 1.7571560850540464\n",
      "perturbing  3 with meanm var =  0.07276642976710465 1.0720350943198387\n",
      "Inputs =  ['0', '1', '3']\n",
      "Target =  ['2']\n",
      "0\n"
     ]
    },
    {
     "name": "stdout",
     "output_type": "stream",
     "text": [
      "10\n",
      "20\n",
      "30\n",
      "40\n",
      "50\n",
      "[0.9582257921143997, 0.9589890605926322, 0.957996859428797, 0.9588719741320736, 0.959837563788878, 0.9600141900280088, 0.9590397447320895, 0.960494381843275, 0.9603534776129988, 0.9639356469884593, 0.9603253450534487, 0.9609859046234933, 0.9584517293532709, 0.9603206501681191, 0.9614275770210973, 0.9593365220820737, 0.9613410853619017, 0.9607911638019612, 0.9599745339911832, 0.9605506833546299, 0.9600821854276619, 0.9582214799680662, 0.9595828923787374, 0.9616941681559203, 0.9614046798378941, 0.9584979542701901, 0.959123492069473, 0.9589709370337764, 0.9599752646204832, 0.9609182586966242, 0.959034099228099, 0.9574658097105603, 0.9599726745365265, 0.9604201305150893, 0.9620161746410383, 0.9597554917575739, 0.962554992457771, 0.9593769387636887, 0.9593224451753493, 0.9613849540211067, 0.9585898326523677, 0.9600913105221188, 0.9587258815205947, 0.961538591712446, 0.9587969573924269, 0.9614207388254586, 0.9599359288077148, 0.9595694412938014, 0.9641756067108825, 0.959308941281794, 0.9594876522947025, 0.9614756573001291, 0.9594480296866782, 0.9608859317778288, 0.9603280448943367, 0.9634571283407206, 0.9632223680010006, 0.9585939488981887, 0.9588096211305899, 0.9593750619146907]\n",
      "Factors =  1.0 0.5\n",
      "MSE =  1.9805207745385955\n",
      "BIC =  1.7103998818193995\n",
      "COMB =  1.469274299881028\n",
      "WRONG =  1.5052259836396056\n",
      "Best possible =  0.18333978940155765\n",
      "MSE =  1.7786105045295983\n",
      "BIC =  3.61715009273766\n",
      "COMB =  2.471795856121056\n",
      "WRONG =  1.7812702477360072\n",
      "Best possible =  4.291798426287332\n",
      "MSE =  3.992942899561056\n",
      "BIC =  3.5666320869320587\n",
      "COMB =  3.531815822141852\n",
      "WRONG =  3.935745358571696\n",
      "Best possible =  1.1639125642893693\n",
      "MSE =  4.667078669498698\n",
      "BIC =  7.244895395149358\n",
      "COMB =  7.116160078032252\n",
      "WRONG =  5.678498283994908\n",
      "Best possible =  8.805249282686047\n",
      "[0.9582257921143997, 0.9589890605926322, 0.957996859428797, 0.9588719741320736, 0.959837563788878, 0.9600141900280088, 0.9590397447320895, 0.960494381843275, 0.9603534776129988, 0.9639356469884593, 0.9603253450534487, 0.9609859046234933, 0.9584517293532709, 0.9603206501681191, 0.9614275770210973, 0.9593365220820737, 0.9613410853619017, 0.9607911638019612, 0.9599745339911832, 0.9605506833546299, 0.9600821854276619, 0.9582214799680662, 0.9595828923787374, 0.9616941681559203, 0.9614046798378941, 0.9584979542701901, 0.959123492069473, 0.9589709370337764, 0.9599752646204832, 0.9609182586966242, 0.959034099228099, 0.9574658097105603, 0.9599726745365265, 0.9604201305150893, 0.9620161746410383, 0.9597554917575739, 0.962554992457771, 0.9593769387636887, 0.9593224451753493, 0.9613849540211067, 0.9585898326523677, 0.9600913105221188, 0.9587258815205947, 0.961538591712446, 0.9587969573924269, 0.9614207388254586, 0.9599359288077148, 0.9595694412938014, 0.9641756067108825, 0.959308941281794, 0.9594876522947025, 0.9614756573001291, 0.9594480296866782, 0.9608859317778288, 0.9603280448943367, 0.9634571283407206, 0.9632223680010006, 0.9585939488981887, 0.9588096211305899, 0.9593750619146907]\n",
      "MSE =  2.7292738354567185\n",
      "BIC =  1.8210734791390064\n",
      "COMB =  1.737559293662582\n",
      "WRONG =  1.7553974116342903\n",
      "Best possible =  0.5143561554025238\n",
      "MSE =  3.3386374246589408\n",
      "BIC =  4.578669859933365\n",
      "COMB =  4.821066723722825\n",
      "WRONG =  3.507410439565051\n",
      "Best possible =  4.965491045419295\n",
      "MSE =  6.055637528916121\n",
      "BIC =  5.077583895087005\n",
      "COMB =  4.61608147614254\n",
      "WRONG =  5.518975176975801\n",
      "Best possible =  2.689107189147137\n",
      "MSE =  7.694065757887693\n",
      "BIC =  9.378448116008647\n",
      "COMB =  9.84860153732626\n",
      "WRONG =  8.345364603971001\n",
      "Best possible =  10.68738385274964\n",
      "Times =  2\n",
      "[2, 2, 3, 1, 3, 1, 2, 2, 3, 2, 3] [2.5, 2.5, 3.0, 1.5, 3.0, 1.5, 2.0, 2.0, 2.0, 2.5, 3.0]\n",
      "A =  {('0', '3'), ('1', '3'), ('0', '1'), ('2', '3'), ('2', '1'), ('0', '2')}\n",
      "B =  {('0', '3'), ('1', '3'), ('0', '1'), ('2', '1'), ('0', '2')}\n",
      "A =  {('1', '3'), ('0', '1'), ('2', '0'), ('2', '3'), ('2', '1')}\n",
      "B =  {('0', '1'), ('2', '3'), ('1', '3'), ('2', '0')}\n",
      "A =  {('0', '1'), ('2', '3'), ('1', '3'), ('1', '2')}\n",
      "B =  {('0', '1'), ('2', '3'), ('1', '3'), ('1', '2')}\n",
      "perturbing  2 with meanm var =  0.9091959104921356 1.3891729271733166\n",
      "perturbing  2 with meanm var =  0.06158589155492331 1.0614316541146214\n",
      "Inputs =  ['0', '1', '2']\n",
      "Target =  ['3']\n",
      "0\n",
      "10\n",
      "20\n",
      "30\n"
     ]
    },
    {
     "ename": "KeyboardInterrupt",
     "evalue": "",
     "output_type": "error",
     "traceback": [
      "\u001b[0;31m---------------------------------------------------------------------------\u001b[0m",
      "\u001b[0;31mKeyboardInterrupt\u001b[0m                         Traceback (most recent call last)",
      "\u001b[0;32m<ipython-input-9-708cab8ed251>\u001b[0m in \u001b[0;36m<module>\u001b[0;34m()\u001b[0m\n\u001b[1;32m     88\u001b[0m             \u001b[0mmodel\u001b[0m\u001b[0;34m.\u001b[0m\u001b[0mcompile\u001b[0m\u001b[0;34m(\u001b[0m\u001b[0moptimizer\u001b[0m \u001b[0;34m=\u001b[0m \u001b[0moptimizers\u001b[0m\u001b[0;34m.\u001b[0m\u001b[0mSGD\u001b[0m\u001b[0;34m(\u001b[0m\u001b[0mlr\u001b[0m \u001b[0;34m=\u001b[0m \u001b[0;36m0.0001\u001b[0m\u001b[0;34m,\u001b[0m \u001b[0mmomentum\u001b[0m \u001b[0;34m=\u001b[0m \u001b[0;36m0.9\u001b[0m\u001b[0;34m,\u001b[0m \u001b[0;34m)\u001b[0m\u001b[0;34m,\u001b[0m \u001b[0mloss\u001b[0m\u001b[0;34m=\u001b[0m\u001b[0;34m'mean_squared_error'\u001b[0m\u001b[0;34m,\u001b[0m \u001b[0mmetrics\u001b[0m \u001b[0;34m=\u001b[0m \u001b[0;34m[\u001b[0m\u001b[0;34m'mse'\u001b[0m\u001b[0;34m]\u001b[0m\u001b[0;34m)\u001b[0m\u001b[0;34m\u001b[0m\u001b[0m\n\u001b[1;32m     89\u001b[0m             \u001b[0;31m#print(len(X), len(y))\u001b[0m\u001b[0;34m\u001b[0m\u001b[0;34m\u001b[0m\u001b[0m\n\u001b[0;32m---> 90\u001b[0;31m             \u001b[0mmodel\u001b[0m\u001b[0;34m.\u001b[0m\u001b[0mfit\u001b[0m\u001b[0;34m(\u001b[0m\u001b[0mx_train\u001b[0m\u001b[0;34m,\u001b[0m \u001b[0my_train\u001b[0m\u001b[0;34m,\u001b[0m \u001b[0mepochs\u001b[0m \u001b[0;34m=\u001b[0m \u001b[0;36m20\u001b[0m\u001b[0;34m,\u001b[0m \u001b[0mvalidation_data\u001b[0m \u001b[0;34m=\u001b[0m \u001b[0;34m(\u001b[0m\u001b[0mx_val\u001b[0m\u001b[0;34m,\u001b[0m \u001b[0my_val\u001b[0m\u001b[0;34m)\u001b[0m\u001b[0;34m,\u001b[0m \u001b[0mcallbacks\u001b[0m \u001b[0;34m=\u001b[0m \u001b[0mcallbacks\u001b[0m\u001b[0;34m,\u001b[0m \u001b[0mbatch_size\u001b[0m \u001b[0;34m=\u001b[0m \u001b[0;36m32\u001b[0m\u001b[0;34m,\u001b[0m \u001b[0mverbose\u001b[0m \u001b[0;34m=\u001b[0m \u001b[0mverbosity\u001b[0m\u001b[0;34m)\u001b[0m\u001b[0;34m\u001b[0m\u001b[0m\n\u001b[0m\u001b[1;32m     91\u001b[0m         \u001b[0;32melse\u001b[0m\u001b[0;34m:\u001b[0m\u001b[0;34m\u001b[0m\u001b[0m\n\u001b[1;32m     92\u001b[0m             \u001b[0mmodels\u001b[0m\u001b[0;34m[\u001b[0m\u001b[0midx\u001b[0m\u001b[0;34m]\u001b[0m\u001b[0;34m.\u001b[0m\u001b[0mfit\u001b[0m\u001b[0;34m(\u001b[0m\u001b[0mX\u001b[0m\u001b[0;34m,\u001b[0m\u001b[0my\u001b[0m\u001b[0;34m)\u001b[0m\u001b[0;34m\u001b[0m\u001b[0m\n",
      "\u001b[0;32m~/anaconda3/lib/python3.6/site-packages/keras/engine/training.py\u001b[0m in \u001b[0;36mfit\u001b[0;34m(self, x, y, batch_size, epochs, verbose, callbacks, validation_split, validation_data, shuffle, class_weight, sample_weight, initial_epoch, steps_per_epoch, validation_steps, **kwargs)\u001b[0m\n\u001b[1;32m   1037\u001b[0m                                         \u001b[0minitial_epoch\u001b[0m\u001b[0;34m=\u001b[0m\u001b[0minitial_epoch\u001b[0m\u001b[0;34m,\u001b[0m\u001b[0;34m\u001b[0m\u001b[0m\n\u001b[1;32m   1038\u001b[0m                                         \u001b[0msteps_per_epoch\u001b[0m\u001b[0;34m=\u001b[0m\u001b[0msteps_per_epoch\u001b[0m\u001b[0;34m,\u001b[0m\u001b[0;34m\u001b[0m\u001b[0m\n\u001b[0;32m-> 1039\u001b[0;31m                                         validation_steps=validation_steps)\n\u001b[0m\u001b[1;32m   1040\u001b[0m \u001b[0;34m\u001b[0m\u001b[0m\n\u001b[1;32m   1041\u001b[0m     def evaluate(self, x=None, y=None,\n",
      "\u001b[0;32m~/anaconda3/lib/python3.6/site-packages/keras/engine/training_arrays.py\u001b[0m in \u001b[0;36mfit_loop\u001b[0;34m(model, f, ins, out_labels, batch_size, epochs, verbose, callbacks, val_f, val_ins, shuffle, callback_metrics, initial_epoch, steps_per_epoch, validation_steps)\u001b[0m\n\u001b[1;32m    197\u001b[0m                     \u001b[0mins_batch\u001b[0m\u001b[0;34m[\u001b[0m\u001b[0mi\u001b[0m\u001b[0;34m]\u001b[0m \u001b[0;34m=\u001b[0m \u001b[0mins_batch\u001b[0m\u001b[0;34m[\u001b[0m\u001b[0mi\u001b[0m\u001b[0;34m]\u001b[0m\u001b[0;34m.\u001b[0m\u001b[0mtoarray\u001b[0m\u001b[0;34m(\u001b[0m\u001b[0;34m)\u001b[0m\u001b[0;34m\u001b[0m\u001b[0m\n\u001b[1;32m    198\u001b[0m \u001b[0;34m\u001b[0m\u001b[0m\n\u001b[0;32m--> 199\u001b[0;31m                 \u001b[0mouts\u001b[0m \u001b[0;34m=\u001b[0m \u001b[0mf\u001b[0m\u001b[0;34m(\u001b[0m\u001b[0mins_batch\u001b[0m\u001b[0;34m)\u001b[0m\u001b[0;34m\u001b[0m\u001b[0m\n\u001b[0m\u001b[1;32m    200\u001b[0m                 \u001b[0mouts\u001b[0m \u001b[0;34m=\u001b[0m \u001b[0mto_list\u001b[0m\u001b[0;34m(\u001b[0m\u001b[0mouts\u001b[0m\u001b[0;34m)\u001b[0m\u001b[0;34m\u001b[0m\u001b[0m\n\u001b[1;32m    201\u001b[0m                 \u001b[0;32mfor\u001b[0m \u001b[0ml\u001b[0m\u001b[0;34m,\u001b[0m \u001b[0mo\u001b[0m \u001b[0;32min\u001b[0m \u001b[0mzip\u001b[0m\u001b[0;34m(\u001b[0m\u001b[0mout_labels\u001b[0m\u001b[0;34m,\u001b[0m \u001b[0mouts\u001b[0m\u001b[0;34m)\u001b[0m\u001b[0;34m:\u001b[0m\u001b[0;34m\u001b[0m\u001b[0m\n",
      "\u001b[0;32m~/anaconda3/lib/python3.6/site-packages/keras/backend/tensorflow_backend.py\u001b[0m in \u001b[0;36m__call__\u001b[0;34m(self, inputs)\u001b[0m\n\u001b[1;32m   2713\u001b[0m                 \u001b[0;32mreturn\u001b[0m \u001b[0mself\u001b[0m\u001b[0;34m.\u001b[0m\u001b[0m_legacy_call\u001b[0m\u001b[0;34m(\u001b[0m\u001b[0minputs\u001b[0m\u001b[0;34m)\u001b[0m\u001b[0;34m\u001b[0m\u001b[0m\n\u001b[1;32m   2714\u001b[0m \u001b[0;34m\u001b[0m\u001b[0m\n\u001b[0;32m-> 2715\u001b[0;31m             \u001b[0;32mreturn\u001b[0m \u001b[0mself\u001b[0m\u001b[0;34m.\u001b[0m\u001b[0m_call\u001b[0m\u001b[0;34m(\u001b[0m\u001b[0minputs\u001b[0m\u001b[0;34m)\u001b[0m\u001b[0;34m\u001b[0m\u001b[0m\n\u001b[0m\u001b[1;32m   2716\u001b[0m         \u001b[0;32melse\u001b[0m\u001b[0;34m:\u001b[0m\u001b[0;34m\u001b[0m\u001b[0m\n\u001b[1;32m   2717\u001b[0m             \u001b[0;32mif\u001b[0m \u001b[0mpy_any\u001b[0m\u001b[0;34m(\u001b[0m\u001b[0mis_tensor\u001b[0m\u001b[0;34m(\u001b[0m\u001b[0mx\u001b[0m\u001b[0;34m)\u001b[0m \u001b[0;32mfor\u001b[0m \u001b[0mx\u001b[0m \u001b[0;32min\u001b[0m \u001b[0minputs\u001b[0m\u001b[0;34m)\u001b[0m\u001b[0;34m:\u001b[0m\u001b[0;34m\u001b[0m\u001b[0m\n",
      "\u001b[0;32m~/anaconda3/lib/python3.6/site-packages/keras/backend/tensorflow_backend.py\u001b[0m in \u001b[0;36m_call\u001b[0;34m(self, inputs)\u001b[0m\n\u001b[1;32m   2673\u001b[0m             \u001b[0mfetched\u001b[0m \u001b[0;34m=\u001b[0m \u001b[0mself\u001b[0m\u001b[0;34m.\u001b[0m\u001b[0m_callable_fn\u001b[0m\u001b[0;34m(\u001b[0m\u001b[0;34m*\u001b[0m\u001b[0marray_vals\u001b[0m\u001b[0;34m,\u001b[0m \u001b[0mrun_metadata\u001b[0m\u001b[0;34m=\u001b[0m\u001b[0mself\u001b[0m\u001b[0;34m.\u001b[0m\u001b[0mrun_metadata\u001b[0m\u001b[0;34m)\u001b[0m\u001b[0;34m\u001b[0m\u001b[0m\n\u001b[1;32m   2674\u001b[0m         \u001b[0;32melse\u001b[0m\u001b[0;34m:\u001b[0m\u001b[0;34m\u001b[0m\u001b[0m\n\u001b[0;32m-> 2675\u001b[0;31m             \u001b[0mfetched\u001b[0m \u001b[0;34m=\u001b[0m \u001b[0mself\u001b[0m\u001b[0;34m.\u001b[0m\u001b[0m_callable_fn\u001b[0m\u001b[0;34m(\u001b[0m\u001b[0;34m*\u001b[0m\u001b[0marray_vals\u001b[0m\u001b[0;34m)\u001b[0m\u001b[0;34m\u001b[0m\u001b[0m\n\u001b[0m\u001b[1;32m   2676\u001b[0m         \u001b[0;32mreturn\u001b[0m \u001b[0mfetched\u001b[0m\u001b[0;34m[\u001b[0m\u001b[0;34m:\u001b[0m\u001b[0mlen\u001b[0m\u001b[0;34m(\u001b[0m\u001b[0mself\u001b[0m\u001b[0;34m.\u001b[0m\u001b[0moutputs\u001b[0m\u001b[0;34m)\u001b[0m\u001b[0;34m]\u001b[0m\u001b[0;34m\u001b[0m\u001b[0m\n\u001b[1;32m   2677\u001b[0m \u001b[0;34m\u001b[0m\u001b[0m\n",
      "\u001b[0;32m~/anaconda3/lib/python3.6/site-packages/tensorflow/python/client/session.py\u001b[0m in \u001b[0;36m__call__\u001b[0;34m(self, *args)\u001b[0m\n\u001b[1;32m   1449\u001b[0m         \u001b[0;32mif\u001b[0m \u001b[0mself\u001b[0m\u001b[0;34m.\u001b[0m\u001b[0m_session\u001b[0m\u001b[0;34m.\u001b[0m\u001b[0m_created_with_new_api\u001b[0m\u001b[0;34m:\u001b[0m\u001b[0;34m\u001b[0m\u001b[0m\n\u001b[1;32m   1450\u001b[0m           return tf_session.TF_SessionRunCallable(\n\u001b[0;32m-> 1451\u001b[0;31m               self._session._session, self._handle, args, status, None)\n\u001b[0m\u001b[1;32m   1452\u001b[0m         \u001b[0;32melse\u001b[0m\u001b[0;34m:\u001b[0m\u001b[0;34m\u001b[0m\u001b[0m\n\u001b[1;32m   1453\u001b[0m           return tf_session.TF_DeprecatedSessionRunCallable(\n",
      "\u001b[0;31mKeyboardInterrupt\u001b[0m: "
     ]
    }
   ],
   "source": [
    "\n",
    "t= 0\n",
    "while (t < 50):\n",
    "    train_size = 10000\n",
    "    nodes = 4\n",
    "    test_mean = random.uniform(0.1, 1.0)\n",
    "    test_var = random.uniform(1.1, 2.0)\n",
    "    test_size = 2000\n",
    "    \n",
    "    \n",
    "    w_G = random_dag(nodes, random.randint(nodes, nodes*nodes)) # since max number of edges is n^2\n",
    "    require = []\n",
    "    for i in w_G.edges:\n",
    "        require.append([str(i[0]), str(i[1])])  \n",
    "    w_prior = p.knowledge(requiredirect = require)\n",
    "\n",
    "    \n",
    "    G = random_dag(nodes, random.randint(nodes - 1, 2*nodes)) # since max number of edges is n^2\n",
    "    df = gen_data(np.arange(nodes), G.edges, SIZE = train_size)\n",
    "    require = []\n",
    "    for i in G.edges:\n",
    "        require.append([str(i[0]), str(i[1])])  \n",
    "    prior = p.knowledge(requiredirect = require)\n",
    "    examine_graph_continuous(df, prior)\n",
    "    \n",
    "    \n",
    "    \n",
    "    # Check to make sure that graph matches our prior knowledge. Or else abort this test.\n",
    "    a = set()\n",
    "    for i in tetrad.getEdges():\n",
    "        a.add((i[0], i[-1]))\n",
    "    b = set()\n",
    "    for i in require:\n",
    "        b.add((i[0], i[1]))\n",
    "    print(\"A = \", a)\n",
    "    print(\"B = \", b)\n",
    "    if a != b:\n",
    "        continue\n",
    "\n",
    "        \n",
    "    # Need to set our inputs and outputs\n",
    "    inputs = set(np.arange(nodes))\n",
    "    #target = str(a.pop()[random.randint(0,1)])\n",
    "    target = str([x for x in G.nodes() if G.out_degree(x)==0 and G.in_degree(x)>=1][0])\n",
    "    inputs.remove(int(target))\n",
    "    inputs = list(map(str, inputs))\n",
    "    \n",
    "    #perturb = random.randint(0,nodes - 1)\n",
    "    perturb = int(inputs[random.randint(0,nodes - 2)])\n",
    "    df_test = gen_data(np.arange(nodes), G.edges, mean = test_mean, var = test_var, SIZE = test_size, perturb = [perturb])\n",
    "    sdf_test = gen_data(np.arange(nodes), G.edges, mean = random.uniform(0.01, 0.1), var = random.uniform(1.01, 1.1), SIZE = test_size, perturb = [perturb])\n",
    "    target = [target]\n",
    "    \n",
    "    print(\"Inputs = \", inputs)\n",
    "    print(\"Target = \", target)\n",
    "    \n",
    "    x_test = df_test[inputs]\n",
    "    y_test = df_test[target]\n",
    "    \n",
    "    sx_test = sdf_test[inputs]\n",
    "    sy_test = sdf_test[target]\n",
    "\n",
    "    causal_split = 0.2\n",
    "    val_split = 0.2\n",
    "    train_split = 1 - (causal_split + val_split)\n",
    "\n",
    "    x_causal = df[inputs][-int(causal_split * len(df)) :]\n",
    "    y_causal = df[target][-int(causal_split * len(df)) :]\n",
    "\n",
    "    x_val = df[inputs][int(train_split * len(df)):-int(causal_split * len(df))]\n",
    "    y_val = df[target][int(train_split * len(df)):-int(causal_split * len(df))]\n",
    "\n",
    "    x_train = df[inputs][:int(train_split * len(df))]\n",
    "    y_train = df[target][:int(train_split * len(df))]\n",
    "\n",
    "    verbosity = 0\n",
    "\n",
    "    for idx, model_name in enumerate(model_names):\n",
    "        if idx % 10 == 0:\n",
    "            print(idx)\n",
    "        if type(models[idx]) is list:\n",
    "            #clear session\n",
    "            keras.backend.clear_session() \n",
    "            #get model according to specification\n",
    "            model = get_model(models[idx], [0.4] * len(models), np.shape(x_train)[1])\n",
    "            callbacks = [ModelCheckpoint(model_name, verbose= verbosity, monitor='val_loss',save_best_only=True), \n",
    "                         EarlyStopping(monitor='val_loss', min_delta=0.0001, patience=2, verbose= verbosity, mode='auto')]\n",
    "            model.compile(optimizer = optimizers.SGD(lr = 0.0001, momentum = 0.9, ), loss='mean_squared_error', metrics = ['mse'])\n",
    "            #print(len(X), len(y))\n",
    "            model.fit(x_train, y_train, epochs = 20, validation_data = (x_val, y_val), callbacks = callbacks, batch_size = 32, verbose = verbosity)\n",
    "        else:\n",
    "            models[idx].fit(X,y)\n",
    "\n",
    "\n",
    "\n",
    "\n",
    "\n",
    "    generalization = []\n",
    "    metrics = []\n",
    "    proposed = []\n",
    "    w_proposed = []\n",
    "    x_causal.reset_index(drop=True, inplace = True)\n",
    "    for idx, model_name in enumerate(model_names):\n",
    "        #print(model_name)\n",
    "        if type(models[idx]) is list:\n",
    "            keras.backend.clear_session()\n",
    "            model = load_model(model_name)\n",
    "        else:\n",
    "            model = models[idx]\n",
    "\n",
    "        y_pred = model.predict(x_test)\n",
    "        generalization.append(mean_squared_error(y_pred, y_test))\n",
    "\n",
    "        #### CHECK FOR CAUSAL METRIC HERE\n",
    "        y_causal_pred = model.predict(x_causal)\n",
    "        causal_targets = pd.DataFrame(y_causal_pred, columns = target)\n",
    "        \n",
    "        #causal_targets.reset_index(drop=True, inplace = True)\n",
    "        causal_df = x_causal.join(causal_targets)\n",
    "\n",
    "\n",
    "\n",
    "        metrics.append(mean_squared_error(y_causal_pred, y_causal))\n",
    "\n",
    "        bic_pred = get_bic(causal_df, prior)\n",
    "        proposed.append(bic_pred)\n",
    "        bic_pred = get_bic(causal_df, w_prior)\n",
    "        w_proposed.append(bic_pred)\n",
    "\n",
    "\n",
    "    nbest = 6\n",
    "    print(metrics)\n",
    "    \n",
    "    good_factor = (1 + len(nx.ancestors(G, int(target[0])))) / len(G.nodes)\n",
    "    wrong_factor = (1 + len(nx.ancestors(w_G, int(target[0])))) / len(w_G.nodes)\n",
    "    print(\"Factors = \", good_factor, wrong_factor)\n",
    "    total = normalize(metrics) + normalize(proposed) * good_factor\n",
    "    wrong = normalize(metrics) + normalize(w_proposed) * wrong_factor\n",
    "    final = pd.DataFrame(np.stack((metrics, proposed,  total, wrong, normalize(generalization)), axis = 1), columns = ['metrics', 'proposed', 'combined', 'wrong', 'generalization'])\n",
    "    print(\"MSE = \", np.sum(final.nsmallest(nbest, 'metrics')['generalization'].values))\n",
    "    print(\"BIC = \", np.sum(final.nsmallest(nbest, 'proposed')['generalization'].values))\n",
    "    print(\"COMB = \",np.sum(final.nsmallest(nbest, 'combined')['generalization'].values))\n",
    "    print(\"WRONG = \", np.sum(final.nsmallest(nbest, 'wrong')['generalization'].values))\n",
    "    print(\"Best possible = \",np.sum(final.nsmallest(nbest, 'generalization')['generalization'].values))\n",
    "    bestMSE.append(final.nsmallest(nbest, 'metrics')['generalization'].values)\n",
    "    bestBIC.append(final.nsmallest(nbest, 'proposed')['generalization'].values)\n",
    "    bestCOMBO.append(final.nsmallest(nbest, 'combined')['generalization'].values)\n",
    "    bestWRONG.append(final.nsmallest(nbest, 'wrong')['generalization'].values)\n",
    "    bestPOSSIBLE.append(final.nsmallest(nbest, 'generalization')['generalization'].values)\n",
    "    \n",
    "    print(\"MSE = \", np.sum(final.nlargest(nbest, 'metrics')['generalization'].values))\n",
    "    print(\"BIC = \", np.sum(final.nlargest(nbest, 'proposed')['generalization'].values))\n",
    "    print(\"COMB = \",np.sum(final.nlargest(nbest, 'combined')['generalization'].values))\n",
    "    print(\"WRONG = \",np.sum(final.nlargest(nbest, 'wrong')['generalization'].values))\n",
    "    print(\"Best possible = \",np.sum(final.nlargest(nbest, 'generalization')['generalization'].values))\n",
    "    worstMSE.append(final.nlargest(nbest, 'metrics')['generalization'].values)\n",
    "    worstBIC.append(final.nlargest(nbest, 'proposed')['generalization'].values)\n",
    "    worstCOMBO.append(final.nlargest(nbest, 'combined')['generalization'].values)\n",
    "    worstWRONG.append(final.nlargest(nbest, 'wrong')['generalization'].values)\n",
    "    worstPOSSIBLE.append(final.nlargest(nbest, 'generalization')['generalization'].values)\n",
    "    \n",
    "    \n",
    "    nbest = 15\n",
    "    print(\"MSE = \", np.sum(final.nsmallest(nbest, 'metrics')['generalization'].values))\n",
    "    print(\"BIC = \", np.sum(final.nsmallest(nbest, 'proposed')['generalization'].values))\n",
    "    print(\"COMB = \",np.sum(final.nsmallest(nbest, 'combined')['generalization'].values))\n",
    "    print(\"WRONG = \", np.sum(final.nsmallest(nbest, 'wrong')['generalization'].values))\n",
    "    print(\"Best possible = \",np.sum(final.nsmallest(nbest, 'generalization')['generalization'].values))\n",
    "    qbestMSE.append(final.nsmallest(nbest, 'metrics')['generalization'].values)\n",
    "    qbestBIC.append(final.nsmallest(nbest, 'proposed')['generalization'].values)\n",
    "    qbestCOMBO.append(final.nsmallest(nbest, 'combined')['generalization'].values)\n",
    "    qbestWRONG.append(final.nsmallest(nbest, 'wrong')['generalization'].values)\n",
    "    qbestPOSSIBLE.append(final.nsmallest(nbest, 'generalization')['generalization'].values)\n",
    "    \n",
    "    print(\"MSE = \", np.sum(final.nlargest(nbest, 'metrics')['generalization'].values))\n",
    "    print(\"BIC = \", np.sum(final.nlargest(nbest, 'proposed')['generalization'].values))\n",
    "    print(\"COMB = \",np.sum(final.nlargest(nbest, 'combined')['generalization'].values))\n",
    "    print(\"WRONG = \",np.sum(final.nlargest(nbest, 'wrong')['generalization'].values))\n",
    "    print(\"Best possible = \",np.sum(final.nlargest(nbest, 'generalization')['generalization'].values))\n",
    "    qworstMSE.append(final.nlargest(nbest, 'metrics')['generalization'].values)\n",
    "    qworstBIC.append(final.nlargest(nbest, 'proposed')['generalization'].values)\n",
    "    qworstCOMBO.append(final.nlargest(nbest, 'combined')['generalization'].values)\n",
    "    qworstWRONG.append(final.nlargest(nbest, 'wrong')['generalization'].values)\n",
    "    qworstPOSSIBLE.append(final.nlargest(nbest, 'generalization')['generalization'].values)\n",
    "    \n",
    "    \n",
    "    generalization = []\n",
    "    metrics = []\n",
    "    proposed = []\n",
    "    w_proposed = []\n",
    "    for idx, model_name in enumerate(model_names):\n",
    "        #print(model_name)\n",
    "        if type(models[idx]) is list:\n",
    "            keras.backend.clear_session()\n",
    "            model = load_model(model_name)\n",
    "        else:\n",
    "            model = models[idx]\n",
    "\n",
    "        y_pred = model.predict(sx_test)\n",
    "        generalization.append(mean_squared_error(y_pred, sy_test))\n",
    "\n",
    "        #### CHECK FOR CAUSAL METRIC HERE\n",
    "        y_causal_pred = model.predict(x_causal)\n",
    "        causal_targets = pd.DataFrame(y_causal_pred, columns = target)\n",
    "        \n",
    "        #causal_targets.reset_index(drop=True, inplace = True)\n",
    "        causal_df = x_causal.join(causal_targets)\n",
    "\n",
    "\n",
    "        metrics.append(mean_squared_error(y_causal_pred, y_causal))\n",
    "\n",
    "        bic_pred = get_bic(causal_df, prior)\n",
    "        proposed.append(bic_pred)\n",
    "        bic_pred = get_bic(causal_df, w_prior)\n",
    "        w_proposed.append(bic_pred)\n",
    "\n",
    "    nbest = 6\n",
    "    print(metrics)\n",
    "    total = normalize(metrics) + normalize(proposed) * good_factor\n",
    "    wrong = normalize(metrics) + normalize(w_proposed) * wrong_factor\n",
    "    final = pd.DataFrame(np.stack((metrics, proposed,  total, wrong, normalize(generalization)), axis = 1), columns = ['metrics', 'proposed', 'combined', 'wrong', 'generalization'])\n",
    "    print(\"MSE = \", np.sum(final.nsmallest(nbest, 'metrics')['generalization'].values))\n",
    "    print(\"BIC = \", np.sum(final.nsmallest(nbest, 'proposed')['generalization'].values))\n",
    "    print(\"COMB = \",np.sum(final.nsmallest(nbest, 'combined')['generalization'].values))\n",
    "    print(\"WRONG = \", np.sum(final.nsmallest(nbest, 'wrong')['generalization'].values))\n",
    "    print(\"Best possible = \",np.sum(final.nsmallest(nbest, 'generalization')['generalization'].values))\n",
    "    sbestMSE.append(final.nsmallest(nbest, 'metrics')['generalization'].values)\n",
    "    sbestBIC.append(final.nsmallest(nbest, 'proposed')['generalization'].values)\n",
    "    sbestCOMBO.append(final.nsmallest(nbest, 'combined')['generalization'].values)\n",
    "    sbestWRONG.append(final.nsmallest(nbest, 'wrong')['generalization'].values)\n",
    "    sbestPOSSIBLE.append(final.nsmallest(nbest, 'generalization')['generalization'].values)\n",
    "    \n",
    "    print(\"MSE = \", np.sum(final.nlargest(nbest, 'metrics')['generalization'].values))\n",
    "    print(\"BIC = \", np.sum(final.nlargest(nbest, 'proposed')['generalization'].values))\n",
    "    print(\"COMB = \",np.sum(final.nlargest(nbest, 'combined')['generalization'].values))\n",
    "    print(\"WRONG = \",np.sum(final.nlargest(nbest, 'wrong')['generalization'].values))\n",
    "    print(\"Best possible = \",np.sum(final.nlargest(nbest, 'generalization')['generalization'].values))\n",
    "    sworstMSE.append(final.nlargest(nbest, 'metrics')['generalization'].values)\n",
    "    sworstBIC.append(final.nlargest(nbest, 'proposed')['generalization'].values)\n",
    "    sworstCOMBO.append(final.nlargest(nbest, 'combined')['generalization'].values)\n",
    "    sworstWRONG.append(final.nlargest(nbest, 'wrong')['generalization'].values)\n",
    "    sworstPOSSIBLE.append(final.nlargest(nbest, 'generalization')['generalization'].values)\n",
    "    \n",
    "    \n",
    "    nbest = 15\n",
    "    print(\"MSE = \", np.sum(final.nsmallest(nbest, 'metrics')['generalization'].values))\n",
    "    print(\"BIC = \", np.sum(final.nsmallest(nbest, 'proposed')['generalization'].values))\n",
    "    print(\"COMB = \",np.sum(final.nsmallest(nbest, 'combined')['generalization'].values))\n",
    "    print(\"WRONG = \", np.sum(final.nsmallest(nbest, 'wrong')['generalization'].values))\n",
    "    print(\"Best possible = \",np.sum(final.nsmallest(nbest, 'generalization')['generalization'].values))\n",
    "    sqbestMSE.append(final.nsmallest(nbest, 'metrics')['generalization'].values)\n",
    "    sqbestBIC.append(final.nsmallest(nbest, 'proposed')['generalization'].values)\n",
    "    sqbestCOMBO.append(final.nsmallest(nbest, 'combined')['generalization'].values)\n",
    "    sqbestWRONG.append(final.nsmallest(nbest, 'wrong')['generalization'].values)\n",
    "    sqbestPOSSIBLE.append(final.nsmallest(nbest, 'generalization')['generalization'].values)\n",
    "    \n",
    "    print(\"MSE = \", np.sum(final.nlargest(nbest, 'metrics')['generalization'].values))\n",
    "    print(\"BIC = \", np.sum(final.nlargest(nbest, 'proposed')['generalization'].values))\n",
    "    print(\"COMB = \",np.sum(final.nlargest(nbest, 'combined')['generalization'].values))\n",
    "    print(\"WRONG = \",np.sum(final.nlargest(nbest, 'wrong')['generalization'].values))\n",
    "    print(\"Best possible = \",np.sum(final.nlargest(nbest, 'generalization')['generalization'].values))\n",
    "    sqworstMSE.append(final.nlargest(nbest, 'metrics')['generalization'].values)\n",
    "    sqworstBIC.append(final.nlargest(nbest, 'proposed')['generalization'].values)\n",
    "    sqworstCOMBO.append(final.nlargest(nbest, 'combined')['generalization'].values)\n",
    "    sqworstWRONG.append(final.nlargest(nbest, 'wrong')['generalization'].values)\n",
    "    sqworstPOSSIBLE.append(final.nlargest(nbest, 'generalization')['generalization'].values)\n",
    "    \n",
    "    \n",
    "    print(\"Times = \", t)\n",
    "    d = []\n",
    "    for i in G.degree():\n",
    "        d.append(i[1])\n",
    "        if str(i[0]) in target:\n",
    "            targetDegree.append(i[1])\n",
    "    averageDegree.append(np.mean(d))\n",
    "    target_inD.append(G.in_degree(int(target[0])))\n",
    "    target_outD.append(G.out_degree(int(target[0])))\n",
    "    descendants.append(len(nx.descendants(G, perturb)))\n",
    "    \n",
    "    \n",
    "    graphDiff.append(len(nx.difference(G, w_G).edges()) + len(nx.difference(w_G, G).edges()) )\n",
    "    print(targetDegree, averageDegree)\n",
    "    t += 1\n",
    "    \n",
    "np.mean(bestMSE), np.mean(bestCOMBO), np.std(bestMSE), np.std(bestCOMBO)"
   ]
  },
  {
   "cell_type": "code",
   "execution_count": 10,
   "metadata": {},
   "outputs": [
    {
     "data": {
      "text/plain": [
       "(0.3429628394118109,\n",
       " 0.2817114935544631,\n",
       " 0.3219406418747067,\n",
       " 0.28725939528820915)"
      ]
     },
     "execution_count": 10,
     "metadata": {},
     "output_type": "execute_result"
    }
   ],
   "source": [
    "np.mean(bestMSE), np.mean(bestCOMBO), np.mean(sbestMSE), np.mean(sbestCOMBO),"
   ]
  },
  {
   "cell_type": "code",
   "execution_count": 11,
   "metadata": {},
   "outputs": [
    {
     "data": {
      "text/plain": [
       "11"
      ]
     },
     "execution_count": 11,
     "metadata": {},
     "output_type": "execute_result"
    }
   ],
   "source": [
    "len(bestMSE)"
   ]
  },
  {
   "cell_type": "code",
   "execution_count": 17,
   "metadata": {},
   "outputs": [
    {
     "data": {
      "text/plain": [
       "(array([0.37032599, 0.02312811]), array([0.62217785, 0.52826288]))"
      ]
     },
     "execution_count": 17,
     "metadata": {},
     "output_type": "execute_result"
    }
   ],
   "source": [
    "final.nsmallest(nbest, 'proposed')['generalization'].values, final.nsmallest(nbest, 'wrong')['generalization'].values"
   ]
  },
  {
   "cell_type": "code",
   "execution_count": 15,
   "metadata": {
    "scrolled": true
   },
   "outputs": [
    {
     "data": {
      "image/png": "[encoded data removed]",
      "text/plain": [
       "<Figure size 432x288 with 1 Axes>"
      ]
     },
     "metadata": {},
     "output_type": "display_data"
    },
    {
     "data": {
      "image/png": "[encoded data removed]",
      "text/plain": [
       "<Figure size 432x288 with 1 Axes>"
      ]
     },
     "metadata": {},
     "output_type": "display_data"
    },
    {
     "data": {
      "image/png": "[encoded data removed]",
      "text/plain": [
       "<Figure size 432x288 with 1 Axes>"
      ]
     },
     "metadata": {},
     "output_type": "display_data"
    },
    {
     "data": {
      "image/png": "[encoded data removed]",
      "text/plain": [
       "<Figure size 432x288 with 1 Axes>"
      ]
     },
     "metadata": {},
     "output_type": "display_data"
    },
    {
     "data": {
      "image/png": "[encoded data removed]",
      "text/plain": [
       "<Figure size 432x288 with 1 Axes>"
      ]
     },
     "metadata": {},
     "output_type": "display_data"
    }
   ],
   "source": [
    "def get_average_improvement(df1, df2):\n",
    "    ret = []\n",
    "    for i, j in zip(df1,df2):\n",
    "        ret.append(np.sum(j) - np.sum(i))\n",
    "    return ret\n",
    "\n",
    "improvement = get_average_improvement(bestMSE, bestCOMBO)\n",
    "np.mean(improvement), np.std(improvement)\n",
    "\n",
    "\n",
    "fig, ax = plt.subplots()\n",
    "ax.plot(averageDegree,improvement, '.')\n",
    "plt.show()\n",
    "\n",
    "\n",
    "fig, ax = plt.subplots()\n",
    "ax.plot(targetDegree,improvement, '.')\n",
    "plt.show()\n",
    "\n",
    "\n",
    "fig, ax = plt.subplots()\n",
    "ax.plot(target_inD,improvement, '.')\n",
    "plt.show()\n",
    "\n",
    "fig, ax = plt.subplots()\n",
    "ax.plot(target_outD,improvement, '.')\n",
    "plt.show()\n",
    "\n",
    "fig, ax = plt.subplots()\n",
    "ax.plot(descendants,improvement, '.')\n",
    "plt.show()"
   ]
  },
  {
   "cell_type": "code",
   "execution_count": 8,
   "metadata": {},
   "outputs": [
    {
     "data": {
      "image/png": "[encoded data removed]",
      "text/plain": [
       "<Figure size 432x288 with 1 Axes>"
      ]
     },
     "metadata": {},
     "output_type": "display_data"
    }
   ],
   "source": [
    "lst = []\n",
    "for x,y in zip(qbestMSE, descendants):\n",
    "    lst.append(['MSE', np.mean(x), y])\n",
    "for x,y in zip(qbestCOMBO, descendants):\n",
    "    lst.append(['Proposed', np.mean(x), y])\n",
    "\n",
    "\n",
    "df = pd.DataFrame(lst, columns = ['Method', 'L2', 'NodesOUTD'])\n",
    "ax = sns.boxplot(data=df, x = 'NodesOUTD', y = 'L2', hue = 'Method', linewidth = 1.5,palette=\"Set2\")"
   ]
  },
  {
   "cell_type": "code",
   "execution_count": 7,
   "metadata": {},
   "outputs": [
    {
     "data": {
      "image/png": "[encoded data removed]",
      "text/plain": [
       "<Figure size 432x288 with 1 Axes>"
      ]
     },
     "metadata": {},
     "output_type": "display_data"
    }
   ],
   "source": [
    "lst = []\n",
    "\n",
    "for x,y in zip(qworstMSE, descendants):\n",
    "    lst.append(['worst MSE', np.mean(x), y])\n",
    "for x,y in zip(qworstCOMBO, descendants):\n",
    "    lst.append(['worst Proposed', np.mean(x), y])\n",
    "\n",
    "\n",
    "df = pd.DataFrame(lst, columns = ['Method', 'L2', 'NodesOUTD'])\n",
    "ax = sns.boxplot(data=df, x = 'NodesOUTD', y = 'L2', hue = 'Method', linewidth = 1.5,palette=\"Set2\")"
   ]
  },
  {
   "cell_type": "code",
   "execution_count": 6,
   "metadata": {},
   "outputs": [
    {
     "data": {
      "image/png": "[encoded data removed]",
      "text/plain": [
       "<Figure size 432x288 with 1 Axes>"
      ]
     },
     "metadata": {},
     "output_type": "display_data"
    }
   ],
   "source": [
    "import seaborn as sns\n",
    "val1 = []\n",
    "for each in sqbestMSE:\n",
    "    val1.append(np.mean(each))\n",
    "val2 = []\n",
    "for each in sqbestCOMBO:\n",
    "    val2.append(np.mean(each))\n",
    "\n",
    "val = []\n",
    "for x, y in zip(val1, val2):\n",
    "    val.append([x, y])\n",
    "df = pd.DataFrame(val, columns = ['MSE', 'Proposed'])\n",
    "ax = sns.boxplot(data=df, palette=\"Set2\")"
   ]
  },
  {
   "cell_type": "code",
   "execution_count": 77,
   "metadata": {},
   "outputs": [
    {
     "data": {
      "text/plain": [
       "(0.6640452593945086, 0.7661277271514675)"
      ]
     },
     "execution_count": 77,
     "metadata": {},
     "output_type": "execute_result"
    }
   ],
   "source": [
    "np.max(val1), np.max(val2)"
   ]
  },
  {
   "cell_type": "code",
   "execution_count": 73,
   "metadata": {},
   "outputs": [
    {
     "data": {
      "text/plain": [
       "array([ 0.0034327 , -0.02559248, -0.13416377, -0.28205571,  0.05900715,\n",
       "       -0.10903223,  0.2575864 ,  0.09371263, -0.30997229,  0.06285865,\n",
       "       -0.04113317, -0.28456472, -0.15928204,  0.27316155,  0.56710605,\n",
       "        0.55499861,  0.15069201,  0.08087676, -0.41550277,  0.06934814,\n",
       "       -0.37002946,  0.20243078,  0.32295185,  0.21044946, -0.06087649,\n",
       "       -0.07757568,  0.43419254, -0.16565832, -0.54071483,  0.1115466 ,\n",
       "        0.00396973,  0.32194001, -0.42890713, -0.04492837, -0.08022409,\n",
       "        0.30079676, -0.02563958,  0.01746376, -0.27542297,  0.24730838,\n",
       "        0.22839099, -0.0525733 ,  0.06003491,  0.19578927, -0.20614404,\n",
       "        0.15330721,  0.06472666, -0.03574063,  0.35898603, -0.42787733])"
      ]
     },
     "execution_count": 73,
     "metadata": {},
     "output_type": "execute_result"
    }
   ],
   "source": []
  },
  {
   "cell_type": "code",
   "execution_count": 16,
   "metadata": {},
   "outputs": [
    {
     "data": {
      "image/png": "[encoded data removed]",
      "text/plain": [
       "<Figure size 432x288 with 1 Axes>"
      ]
     },
     "metadata": {},
     "output_type": "display_data"
    },
    {
     "data": {
      "image/png": "[encoded data removed]",
      "text/plain": [
       "<Figure size 432x288 with 1 Axes>"
      ]
     },
     "metadata": {},
     "output_type": "display_data"
    },
    {
     "data": {
      "image/png": "[encoded data removed]",
      "text/plain": [
       "<Figure size 432x288 with 1 Axes>"
      ]
     },
     "metadata": {},
     "output_type": "display_data"
    }
   ],
   "source": [
    "def box_plots(X,Y):\n",
    "    box = []\n",
    "    for i in np.unique(X):\n",
    "        box.append([])\n",
    "    for x,y in zip(X, Y):\n",
    "        box[x].append(y)\n",
    "    fig = plt.figure()\n",
    "\n",
    "    ax = fig.add_subplot(111)\n",
    "    ax.yaxis.grid(True)\n",
    "    ax.set_xlabel(\"Number of Target Descendants\")\n",
    "    ax.set_ylabel(\"L1 Loss Improvement\")\n",
    "    bp = ax.boxplot(box, showfliers=False, labels = ['0', '1', '2'])\n",
    "    \n",
    "box_plots(descendants, improvement)\n",
    "box_plots(target_outD, improvement)\n",
    "box_plots(target_inD, improvement)"
   ]
  },
  {
   "cell_type": "code",
   "execution_count": 45,
   "metadata": {},
   "outputs": [
    {
     "data": {
      "image/png": "[encoded data removed]",
      "text/plain": [
       "<Figure size 432x288 with 2 Axes>"
      ]
     },
     "metadata": {},
     "output_type": "display_data"
    }
   ],
   "source": [
    "def heat_plot(x,y,z, xlab = 'Mean', ylab = 'Variance', zlab= 'Mean Generalization Error (MSE)', clim_low = 0, clim_high = 1):\n",
    "    fig, ax = plt.subplots()\n",
    "\n",
    "    cax = ax.scatter(x, y, c=z, s=70, edgecolor='black', cmap = 'hot')\n",
    "    cax.set_clim(clim_low, clim_high)\n",
    "    ax.set_xlabel(xlab)\n",
    "    ax.set_ylabel(ylab)\n",
    "    #plt.colorbar(cax)\n",
    "    cbar = plt.colorbar(cax)\n",
    "    cbar.set_label(zlab)\n",
    "    plt.show()\n",
    "    \n",
    "\n",
    "heat_plot(target_outD, target_inD, normalize(improvement), xlab = 'inD', ylab='outD')"
   ]
  },
  {
   "cell_type": "code",
   "execution_count": null,
   "metadata": {},
   "outputs": [],
   "source": [
    "np.mean(bestMSE), np.mean(bestCOMBO), np.std(bestMSE), np.std(bestCOMBO)"
   ]
  },
  {
   "cell_type": "code",
   "execution_count": null,
   "metadata": {},
   "outputs": [],
   "source": [
    "improvement\n",
    "fig, ax = plt.subplots()\n",
    "ax.plot(averageDegree,improvement, '.')\n",
    "plt.show()\n",
    "\n",
    "improvement\n",
    "fig, ax = plt.subplots()\n",
    "ax.plot(targetDegree,improvement, '.')\n",
    "plt.show()"
   ]
  },
  {
   "cell_type": "code",
   "execution_count": 11,
   "metadata": {},
   "outputs": [
    {
     "data": {
      "image/png": "[encoded data removed]",
      "text/plain": [
       "<Figure size 432x288 with 1 Axes>"
      ]
     },
     "metadata": {},
     "output_type": "display_data"
    },
    {
     "data": {
      "image/png": "[encoded data removed]",
      "text/plain": [
       "<Figure size 432x288 with 1 Axes>"
      ]
     },
     "metadata": {},
     "output_type": "display_data"
    },
    {
     "data": {
      "image/png": "[encoded data removed]",
      "text/plain": [
       "<Figure size 432x288 with 1 Axes>"
      ]
     },
     "metadata": {},
     "output_type": "display_data"
    }
   ],
   "source": [
    "fig, ax = plt.subplots()\n",
    "b,m = polyfit(proposed,generalization, 1)\n",
    "text(0.05, 0.9,'Pearson coeff:' + str(pearsonr(proposed,generalization)[0])[0:4], ha='left', va='center', transform=ax.transAxes)\n",
    "ax.plot(proposed,generalization, '.')\n",
    "plt.plot(proposed, b + m * np.array(proposed), '-')\n",
    "ax.set_xlabel(\"BIC\")\n",
    "ax.set_ylabel(\"GEN\")\n",
    "fig.savefig('Ex4MSEVsAUS.pdf', bbox_inches='tight')\n",
    "plt.show()\n",
    "\n",
    "fig, ax = plt.subplots()\n",
    "b,m = polyfit(metrics,generalization, 1)\n",
    "text(0.05, 0.9,'Pearson coeff:' + str(pearsonr(metrics,generalization)[0])[0:4], ha='left', va='center', transform=ax.transAxes)\n",
    "ax.plot(metrics,generalization, '.')\n",
    "plt.plot(metrics, b + m * np.array(metrics), '-')\n",
    "ax.set_xlabel(\"MSE\")\n",
    "ax.set_ylabel(\"GEN\")\n",
    "fig.savefig('Ex4MSEVsAUS.pdf', bbox_inches='tight')\n",
    "plt.show()\n",
    "\n",
    "\n",
    "total = normalize(metrics) + normalize(proposed)\n",
    "fig, ax = plt.subplots()\n",
    "b,m = polyfit(total,generalization, 1)\n",
    "text(0.05, 0.9,'Pearson coeff:' + str(pearsonr(total,generalization)[0])[0:4], ha='left', va='center', transform=ax.transAxes)\n",
    "ax.plot(total,generalization, '.')\n",
    "plt.plot(total, b + m * np.array(total), '-')\n",
    "ax.set_xlabel(\"MSE\")\n",
    "ax.set_ylabel(\"GEN\")\n",
    "fig.savefig('Ex4MSEVsAUS.pdf', bbox_inches='tight')\n",
    "plt.show()\n"
   ]
  },
  {
   "cell_type": "code",
   "execution_count": null,
   "metadata": {},
   "outputs": [],
   "source": [
    "nbest = 10\n",
    "final = pd.DataFrame(np.stack((metrics, proposed, total, generalization), axis = 1), columns = ['metrics', 'proposed', 'combined', 'generalization'])\n",
    "print(\"MSE = \", np.sum(final.nsmallest(nbest, 'metrics')['generalization']))\n",
    "print(\"BIC = \", np.sum(final.nsmallest(nbest, 'proposed')['generalization']))\n",
    "print(\"COMB = \",np.sum(final.nsmallest(nbest, 'combined')['generalization']))"
   ]
  },
  {
   "cell_type": "code",
   "execution_count": null,
   "metadata": {},
   "outputs": [],
   "source": []
  }
 ],
 "metadata": {
  "kernelspec": {
   "display_name": "Python 3",
   "language": "python",
   "name": "python3"
  },
  "language_info": {
   "codemirror_mode": {
    "name": "ipython",
    "version": 3
   },
   "file_extension": ".py",
   "mimetype": "text/x-python",
   "name": "python",
   "nbconvert_exporter": "python",
   "pygments_lexer": "ipython3",
   "version": "3.6.5"
  }
 },
 "nbformat": 4,
 "nbformat_minor": 2
}
